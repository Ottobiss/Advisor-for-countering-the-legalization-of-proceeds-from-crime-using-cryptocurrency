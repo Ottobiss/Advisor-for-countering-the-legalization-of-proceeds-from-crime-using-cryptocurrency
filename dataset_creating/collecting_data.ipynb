{
 "cells": [
  {
   "cell_type": "markdown",
   "id": "8b2e6207-4495-489a-b397-ada00d1bf86c",
   "metadata": {},
   "source": [
    "# **Алгоритм для получения данных о конкретном криптокошельке**"
   ]
  },
  {
   "cell_type": "markdown",
   "id": "df96fc05-861f-4fe6-9723-ea2a7498278f",
   "metadata": {},
   "source": [
    "## **<span style=\"color:blue\"> Описание**\n",
    "**Данный алгоритм на основе ранеее полученного в параметры функции адреса кашелька bitcoin отправляет запрос на получение данных о нём.\n",
    "После чего эти данные специальным образом обрабатываются и передаются в виде словаря Python.**"
   ]
  },
  {
   "cell_type": "code",
   "execution_count": 7,
   "id": "c5fadb34-b50a-4727-93ea-37d7e6b68514",
   "metadata": {},
   "outputs": [
    {
     "name": "stdout",
     "output_type": "stream",
     "text": [
      "Defaulting to user installation because normal site-packages is not writeable\n",
      "Collecting datetime\n",
      "  Downloading DateTime-5.5-py3-none-any.whl.metadata (33 kB)\n",
      "Collecting zope.interface (from datetime)\n",
      "  Downloading zope.interface-6.2-cp312-cp312-win_amd64.whl.metadata (43 kB)\n",
      "     ---------------------------------------- 0.0/43.1 kB ? eta -:--:--\n",
      "     -------------------------------------- - 41.0/43.1 kB 1.9 MB/s eta 0:00:01\n",
      "     ---------------------------------------- 43.1/43.1 kB 1.1 MB/s eta 0:00:00\n",
      "Requirement already satisfied: pytz in c:\\users\\user\\appdata\\local\\packages\\pythonsoftwarefoundation.python.3.12_qbz5n2kfra8p0\\localcache\\local-packages\\python312\\site-packages (from datetime) (2024.1)\n",
      "Collecting setuptools (from zope.interface->datetime)\n",
      "  Using cached setuptools-69.2.0-py3-none-any.whl.metadata (6.3 kB)\n",
      "Downloading DateTime-5.5-py3-none-any.whl (52 kB)\n",
      "   ---------------------------------------- 0.0/52.6 kB ? eta -:--:--\n",
      "   ---------------------------------------- 52.6/52.6 kB 2.8 MB/s eta 0:00:00\n",
      "Downloading zope.interface-6.2-cp312-cp312-win_amd64.whl (204 kB)\n",
      "   ---------------------------------------- 0.0/204.5 kB ? eta -:--:--\n",
      "   ------------------------ --------------- 122.9/204.5 kB 2.4 MB/s eta 0:00:01\n",
      "   ---------------------------------------- 204.5/204.5 kB 3.1 MB/s eta 0:00:00\n",
      "Using cached setuptools-69.2.0-py3-none-any.whl (821 kB)\n",
      "Installing collected packages: setuptools, zope.interface, datetime\n",
      "Successfully installed datetime-5.5 setuptools-69.2.0 zope.interface-6.2\n",
      "Note: you may need to restart the kernel to use updated packages.\n",
      "Defaulting to user installation because normal site-packages is not writeable\n",
      "Requirement already satisfied: urllib3 in c:\\users\\user\\appdata\\local\\packages\\pythonsoftwarefoundation.python.3.12_qbz5n2kfra8p0\\localcache\\local-packages\\python312\\site-packages (2.2.1)\n",
      "Note: you may need to restart the kernel to use updated packages.\n"
     ]
    }
   ],
   "source": [
    "%pip install datetime\n",
    "%pip install urllib3"
   ]
  },
  {
   "cell_type": "markdown",
   "id": "9751c75c-4269-477c-bc7f-cdc42cfbe53d",
   "metadata": {},
   "source": [
    "## **<span style=\"color:blue\"> Необходимые библиотеки**\n",
    "**datetime** — модуль позволяющий управлять датами и временем, представляя их в таком виде, в котором пользователи смогут их понимать.  \n",
    "**urllib3** — мощный HTTP-клиент на Python c простым для понимания и продуманным кодом. Она поддерживает безопасность потоков, пул соединений."
   ]
  },
  {
   "cell_type": "code",
   "execution_count": 10,
   "id": "61bf4c40-53c6-487d-8402-5b080e9ea624",
   "metadata": {},
   "outputs": [],
   "source": [
    "import json, time, datetime\n",
    "import urllib.request"
   ]
  },
  {
   "cell_type": "markdown",
   "id": "dacd39ba-4a24-475a-a284-5fc88e4907ad",
   "metadata": {},
   "source": [
    "## **<span style=\"color:blue\"> Функции**"
   ]
  },
  {
   "cell_type": "markdown",
   "id": "91550a04-3777-4e9a-add8-ff24a8af3595",
   "metadata": {},
   "source": [
    "### Функция <span style=\"color:red\">convertTime  \n",
    "Функция **convertTime** возвращает указанную метку времени в привычной для нас метрике."
   ]
  },
  {
   "cell_type": "code",
   "execution_count": null,
   "id": "53e5276e-7fb4-43c0-a78a-9bb33a1cf289",
   "metadata": {},
   "outputs": [],
   "source": [
    "def convertTime(time):\n",
    "    return datetime.datetime.strptime(datetime.datetime.fromtimestamp(int(time)).strftime('%Y-%m-%d %H:%M:%S'), '%Y-%m-%d %H:%M:%S')"
   ]
  },
  {
   "cell_type": "markdown",
   "id": "669028c8-02bb-46e5-9de5-ceef7755b21d",
   "metadata": {},
   "source": [
    "### Функция <span style=\"color:red\">getWalletData  \n",
    "Функция **getWalletData** делает запрос на получение данных о кошельке, после чего сохраняет полученные данные в переменной data в формате json. Дата содержит множество параметров, например, баланс кошелька, количество транзакций, время транзакций и т.д. Эти данные мы используем для генерации словаря с такими пармаетрами как <span style=\"color:green\">balance</span> - баланс, <span style=\"color:green\">transaction</span> - количество транзакций, <span style=\"color:green\">received</span> - сколько всего было получено, <span style=\"color:green\">sent</span> - сколько всего было отправлено, <span style=\"color:green\">midtime</span> - среднее время между операциями, <span style=\"color:green\">class</span> - опасна ли транзакция( 1 если опасна и 0 если безопасна)."
   ]
  },
  {
   "cell_type": "code",
   "execution_count": 12,
   "id": "2529df8d-5af0-4fb6-9aae-78dc250ee838",
   "metadata": {},
   "outputs": [],
   "source": [
    "def getWalletData(address):\n",
    "    try:\n",
    "        with urllib.request.urlopen('https://blockchain.info/rawaddr/' + address) as url:\n",
    "            data = json.loads(url.read())\n",
    "\n",
    "        if len(data['txs'])-1 != 0:\n",
    "            midtime = abs(sum((convertTime(data['txs'][num]['time']) - convertTime(data['txs'][num+1]['time'])).total_seconds()\n",
    "                              for num in range(len(data['txs'])-1))/(len(data['txs'])-1))\n",
    "        else:\n",
    "            midtime = 0\n",
    "        return {'balance' : data['final_balance'], 'transaction' : data['n_tx'], 'received' : data['total_received'], \n",
    "                'sent' : data['total_sent'], 'midtime' : int(midtime), 'class' : 0}\n",
    "    except urllib.error.HTTPError as err:\n",
    "        if err.code == 429:\n",
    "            print('wait')\n",
    "            time.sleep(10)\n",
    "            return getWalletData(address)\n",
    "        else:\n",
    "            raise"
   ]
  }
 ],
 "metadata": {
  "kernelspec": {
   "display_name": "Python 3 (ipykernel)",
   "language": "python",
   "name": "python3"
  },
  "language_info": {
   "codemirror_mode": {
    "name": "ipython",
    "version": 3
   },
   "file_extension": ".py",
   "mimetype": "text/x-python",
   "name": "python",
   "nbconvert_exporter": "python",
   "pygments_lexer": "ipython3",
   "version": "3.12.2"
  }
 },
 "nbformat": 4,
 "nbformat_minor": 5
}
