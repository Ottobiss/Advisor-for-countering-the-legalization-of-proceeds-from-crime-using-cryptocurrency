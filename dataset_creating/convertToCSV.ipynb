{
 "cells": [
  {
   "cell_type": "markdown",
   "id": "df52701d-36ac-40e0-9d52-0ea308df87d6",
   "metadata": {},
   "source": [
    "# **Алгоритм для конвертации данных в формат CSV**"
   ]
  },
  {
   "cell_type": "code",
   "execution_count": 1,
   "id": "d0e4c4bf-7a55-445d-8c5b-4c27983600d6",
   "metadata": {},
   "outputs": [
    {
     "name": "stdout",
     "output_type": "stream",
     "text": [
      "Defaulting to user installation because normal site-packages is not writeable\n",
      "Requirement already satisfied: pandas in c:\\users\\user\\appdata\\local\\packages\\pythonsoftwarefoundation.python.3.12_qbz5n2kfra8p0\\localcache\\local-packages\\python312\\site-packages (2.2.1)\n",
      "Requirement already satisfied: numpy<2,>=1.26.0 in c:\\users\\user\\appdata\\local\\packages\\pythonsoftwarefoundation.python.3.12_qbz5n2kfra8p0\\localcache\\local-packages\\python312\\site-packages (from pandas) (1.26.4)\n",
      "Requirement already satisfied: python-dateutil>=2.8.2 in c:\\users\\user\\appdata\\local\\packages\\pythonsoftwarefoundation.python.3.12_qbz5n2kfra8p0\\localcache\\local-packages\\python312\\site-packages (from pandas) (2.9.0.post0)\n",
      "Requirement already satisfied: pytz>=2020.1 in c:\\users\\user\\appdata\\local\\packages\\pythonsoftwarefoundation.python.3.12_qbz5n2kfra8p0\\localcache\\local-packages\\python312\\site-packages (from pandas) (2024.1)\n",
      "Requirement already satisfied: tzdata>=2022.7 in c:\\users\\user\\appdata\\local\\packages\\pythonsoftwarefoundation.python.3.12_qbz5n2kfra8p0\\localcache\\local-packages\\python312\\site-packages (from pandas) (2024.1)\n",
      "Requirement already satisfied: six>=1.5 in c:\\users\\user\\appdata\\local\\packages\\pythonsoftwarefoundation.python.3.12_qbz5n2kfra8p0\\localcache\\local-packages\\python312\\site-packages (from python-dateutil>=2.8.2->pandas) (1.16.0)\n",
      "Note: you may need to restart the kernel to use updated packages.\n"
     ]
    }
   ],
   "source": [
    "%pip install pandas"
   ]
  },
  {
   "cell_type": "markdown",
   "id": "58c2dd18-4d9f-4719-9129-8858e40c39ba",
   "metadata": {},
   "source": [
    "## **<span style=\"color:blue\"> Необходимые библиотеки**\n",
    "**pandas** —  это библиотека в Python, набор заранее подготовленных методов и функций для анализа структурированных данных.  "
   ]
  },
  {
   "cell_type": "code",
   "execution_count": 2,
   "id": "31d52d28-c694-474a-847c-c4b6f99cbdb3",
   "metadata": {},
   "outputs": [],
   "source": [
    "import pandas as pd"
   ]
  },
  {
   "cell_type": "code",
   "execution_count": 3,
   "id": "9b56c76d-44ef-4b32-bead-2917883e881b",
   "metadata": {},
   "outputs": [],
   "source": [
    "info = open('info.txt', 'r')\n",
    "wallets = [eval(line) for line in (info.readlines())]"
   ]
  },
  {
   "cell_type": "code",
   "execution_count": 4,
   "id": "ddcd412b-7ed8-4451-84e9-d6443913ce21",
   "metadata": {},
   "outputs": [],
   "source": [
    "df = pd.DataFrame(row for row in wallets)\n",
    "df.to_csv('wallet.csv', mode='a', index= False , header= False )"
   ]
  }
 ],
 "metadata": {
  "kernelspec": {
   "display_name": "Python 3 (ipykernel)",
   "language": "python",
   "name": "python3"
  },
  "language_info": {
   "codemirror_mode": {
    "name": "ipython",
    "version": 3
   },
   "file_extension": ".py",
   "mimetype": "text/x-python",
   "name": "python",
   "nbconvert_exporter": "python",
   "pygments_lexer": "ipython3",
   "version": "3.12.2"
  }
 },
 "nbformat": 4,
 "nbformat_minor": 5
}
