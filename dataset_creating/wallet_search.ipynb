{
 "cells": [
  {
   "cell_type": "markdown",
   "id": "cb10a102-a179-4b83-ab3f-f17549e4979d",
   "metadata": {},
   "source": [
    "# **Алгоритм для считывания данных о массиве кошельков в файл**"
   ]
  },
  {
   "cell_type": "code",
   "execution_count": null,
   "id": "339f56d4-3e6b-4be5-8a68-f4b54b6240f4",
   "metadata": {},
   "outputs": [],
   "source": [
    "import collecting_data"
   ]
  },
  {
   "cell_type": "markdown",
   "id": "c9f2fd62-4285-48c2-817a-914e34725b27",
   "metadata": {},
   "source": [
    "## **<span style=\"color:blue\"> Файлы**\n",
    "**address.txt** — файл, содержащий необходимые вам bitcoin кошельки. Это могут быть как безопасные, так и опасные кошельки.  \n",
    "**info.txt** — файл, куда записываются данные о кошельках в формате словаря Python."
   ]
  },
  {
   "cell_type": "code",
   "execution_count": null,
   "id": "bcf7e0e7-dafa-4aab-9984-164734a763c0",
   "metadata": {},
   "outputs": [],
   "source": [
    "addresses = open('address.txt', 'r')\n",
    "info = open('info.txt', 'w')\n",
    "lines = addresses.readlines()"
   ]
  },
  {
   "cell_type": "code",
   "execution_count": null,
   "id": "d6ef0837-de56-4ad1-b80a-e826fc648807",
   "metadata": {},
   "outputs": [],
   "source": [
    "for address in lines:\n",
    "    info.write(str(collecting_data.getWalletData(address)) + '\\n')\n",
    "    print(collecting_data.getWalletData(address))"
   ]
  }
 ],
 "metadata": {
  "kernelspec": {
   "display_name": "Python 3 (ipykernel)",
   "language": "python",
   "name": "python3"
  },
  "language_info": {
   "codemirror_mode": {
    "name": "ipython",
    "version": 3
   },
   "file_extension": ".py",
   "mimetype": "text/x-python",
   "name": "python",
   "nbconvert_exporter": "python",
   "pygments_lexer": "ipython3",
   "version": "3.12.2"
  }
 },
 "nbformat": 4,
 "nbformat_minor": 5
}
